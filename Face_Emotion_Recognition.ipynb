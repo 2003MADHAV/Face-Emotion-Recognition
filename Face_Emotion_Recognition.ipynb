{
  "cells": [
    {
      "cell_type": "code",
      "execution_count": 1,
      "metadata": {
        "colab": {
          "base_uri": "https://localhost:8080/",
          "height": 34
        },
        "colab_type": "code",
        "id": "W5MCT5ZEaAyZ",
        "outputId": "78984806-d22b-4bc3-85c8-64e9316d1220"
      },
      "outputs": [
        {
          "name": "stdout",
          "output_type": "stream",
          "text": [
            "Mounted at /content/drive\n"
          ]
        }
      ],
      "source": [
        "from google.colab import drive\n",
        "drive.mount('/content/drive')"
      ]
    },
    {
      "cell_type": "code",
      "execution_count": 2,
      "metadata": {
        "colab": {},
        "colab_type": "code",
        "id": "1LXimnwqZ7W3"
      },
      "outputs": [],
      "source": [
        "import numpy as np\n",
        "import pandas as pd\n",
        "import matplotlib.pyplot as plt\n",
        "%matplotlib inline"
      ]
    },
    {
      "cell_type": "code",
      "execution_count": 3,
      "metadata": {
        "colab": {},
        "colab_type": "code",
        "id": "O01ZQ4ZFZ7W8"
      },
      "outputs": [],
      "source": [
        "data = pd.read_csv('/content/drive/My Drive/fer2013.csv')"
      ]
    },
    {
      "cell_type": "code",
      "execution_count": 4,
      "metadata": {
        "colab": {
          "base_uri": "https://localhost:8080/",
          "height": 195
        },
        "colab_type": "code",
        "id": "AqIYxPdfZ7W_",
        "outputId": "e726891d-1805-4173-e396-3403ad886886"
      },
      "outputs": [
        {
          "data": {
            "text/html": [
              "<div>\n",
              "<style scoped>\n",
              "    .dataframe tbody tr th:only-of-type {\n",
              "        vertical-align: middle;\n",
              "    }\n",
              "\n",
              "    .dataframe tbody tr th {\n",
              "        vertical-align: top;\n",
              "    }\n",
              "\n",
              "    .dataframe thead th {\n",
              "        text-align: right;\n",
              "    }\n",
              "</style>\n",
              "<table border=\"1\" class=\"dataframe\">\n",
              "  <thead>\n",
              "    <tr style=\"text-align: right;\">\n",
              "      <th></th>\n",
              "      <th>emotion</th>\n",
              "      <th>pixels</th>\n",
              "      <th>Usage</th>\n",
              "    </tr>\n",
              "  </thead>\n",
              "  <tbody>\n",
              "    <tr>\n",
              "      <th>0</th>\n",
              "      <td>0</td>\n",
              "      <td>70 80 82 72 58 58 60 63 54 58 60 48 89 115 121...</td>\n",
              "      <td>Training</td>\n",
              "    </tr>\n",
              "    <tr>\n",
              "      <th>1</th>\n",
              "      <td>0</td>\n",
              "      <td>151 150 147 155 148 133 111 140 170 174 182 15...</td>\n",
              "      <td>Training</td>\n",
              "    </tr>\n",
              "    <tr>\n",
              "      <th>2</th>\n",
              "      <td>2</td>\n",
              "      <td>231 212 156 164 174 138 161 173 182 200 106 38...</td>\n",
              "      <td>Training</td>\n",
              "    </tr>\n",
              "    <tr>\n",
              "      <th>3</th>\n",
              "      <td>4</td>\n",
              "      <td>24 32 36 30 32 23 19 20 30 41 21 22 32 34 21 1...</td>\n",
              "      <td>Training</td>\n",
              "    </tr>\n",
              "    <tr>\n",
              "      <th>4</th>\n",
              "      <td>6</td>\n",
              "      <td>4 0 0 0 0 0 0 0 0 0 0 0 3 15 23 28 48 50 58 84...</td>\n",
              "      <td>Training</td>\n",
              "    </tr>\n",
              "  </tbody>\n",
              "</table>\n",
              "</div>"
            ],
            "text/plain": [
              "   emotion                                             pixels     Usage\n",
              "0        0  70 80 82 72 58 58 60 63 54 58 60 48 89 115 121...  Training\n",
              "1        0  151 150 147 155 148 133 111 140 170 174 182 15...  Training\n",
              "2        2  231 212 156 164 174 138 161 173 182 200 106 38...  Training\n",
              "3        4  24 32 36 30 32 23 19 20 30 41 21 22 32 34 21 1...  Training\n",
              "4        6  4 0 0 0 0 0 0 0 0 0 0 0 3 15 23 28 48 50 58 84...  Training"
            ]
          },
          "execution_count": 4,
          "metadata": {
            "tags": []
          },
          "output_type": "execute_result"
        }
      ],
      "source": [
        "data.head()"
      ]
    },
    {
      "cell_type": "code",
      "execution_count": 5,
      "metadata": {
        "colab": {
          "base_uri": "https://localhost:8080/",
          "height": 34
        },
        "colab_type": "code",
        "id": "2RvY7kxQZ7XC",
        "outputId": "d3f3eae6-c885-4ddb-954c-561f064bd9ad"
      },
      "outputs": [
        {
          "data": {
            "text/plain": [
              "(35887, 3)"
            ]
          },
          "execution_count": 5,
          "metadata": {
            "tags": []
          },
          "output_type": "execute_result"
        }
      ],
      "source": [
        "data.shape"
      ]
    },
    {
      "cell_type": "code",
      "execution_count": 6,
      "metadata": {
        "colab": {},
        "colab_type": "code",
        "id": "0Kzud3eiZ7XF"
      },
      "outputs": [],
      "source": [
        "labels = data.iloc[:, 0]"
      ]
    },
    {
      "cell_type": "code",
      "execution_count": 7,
      "metadata": {
        "colab": {},
        "colab_type": "code",
        "id": "j0u7IQ4wZ7XI"
      },
      "outputs": [],
      "source": [
        "pixels = data.iloc[:, 1]\n",
        "images = np.zeros((pixels.shape[0], 48*48))\n",
        "for ix in range(images.shape[0]):\n",
        "    p = pixels[ix].split(' ')\n",
        "    for iy in range(images.shape[1]):\n",
        "        images[ix, iy] = int(p[iy])"
      ]
    },
    {
      "cell_type": "code",
      "execution_count": 8,
      "metadata": {
        "colab": {
          "base_uri": "https://localhost:8080/",
          "height": 594
        },
        "colab_type": "code",
        "id": "sjzfnOxRZ7XK",
        "outputId": "c925deb8-38bc-4faf-84df-16104d961bc5"
      },
      "outputs": [
        {
          "data": {
            "image/png": "[encoded data removed]",
            "text/plain": [
              "<Figure size 720x720 with 9 Axes>"
            ]
          },
          "metadata": {
            "needs_background": "light",
            "tags": []
          },
          "output_type": "display_data"
        }
      ],
      "source": [
        "plt.figure(figsize = (10,10))\n",
        "for index,image in enumerate(images[:9]):\n",
        "    plt.subplot(3,3,index+1)\n",
        "    plt.imshow(image.reshape((48,48)), cmap = 'gray')\n",
        "plt.show()"
      ]
    },
    {
      "cell_type": "code",
      "execution_count": 9,
      "metadata": {
        "colab": {
          "base_uri": "https://localhost:8080/",
          "height": 34
        },
        "colab_type": "code",
        "id": "8Rl4I1BTZ7XN",
        "outputId": "e59daaf8-e8c3-41d6-a0cf-d3cb44a62ec8"
      },
      "outputs": [
        {
          "data": {
            "text/plain": [
              "array(['Training', 'PublicTest', 'PrivateTest'], dtype=object)"
            ]
          },
          "execution_count": 9,
          "metadata": {
            "tags": []
          },
          "output_type": "execute_result"
        }
      ],
      "source": [
        "train_or_test = data.iloc[:, 2].values\n",
        "data[\"Usage\"].unique()"
      ]
    },
    {
      "cell_type": "code",
      "execution_count": 10,
      "metadata": {
        "colab": {
          "base_uri": "https://localhost:8080/",
          "height": 34
        },
        "colab_type": "code",
        "id": "DED7lltIZ7XT",
        "outputId": "63915644-b5d5-4519-bd64-3a9d1b307d72"
      },
      "outputs": [
        {
          "data": {
            "text/plain": [
              "array([0, 2, 4, 6, 3, 5, 1])"
            ]
          },
          "execution_count": 10,
          "metadata": {
            "tags": []
          },
          "output_type": "execute_result"
        }
      ],
      "source": [
        "data['emotion'].unique()"
      ]
    },
    {
      "cell_type": "code",
      "execution_count": 31,
      "metadata": {
        "colab": {},
        "colab_type": "code",
        "id": "PDCeaU4Pc6wd"
      },
      "outputs": [],
      "source": [
        "reshaped_images = np.zeros((images.shape[0], 48, 48,1))\n",
        "i = 0\n",
        "for image in images:\n",
        "  reshaped_images[i] = image.reshape((48,48,1))\n",
        "  i+=1"
      ]
    },
    {
      "cell_type": "code",
      "execution_count": 32,
      "metadata": {
        "colab": {
          "base_uri": "https://localhost:8080/",
          "height": 34
        },
        "colab_type": "code",
        "id": "wY6MnxncdxZ_",
        "outputId": "439fdca9-515d-4608-e3d3-b6e9192b2fb8"
      },
      "outputs": [
        {
          "data": {
            "text/plain": [
              "(35887, 48, 48, 1)"
            ]
          },
          "execution_count": 32,
          "metadata": {
            "tags": []
          },
          "output_type": "execute_result"
        }
      ],
      "source": [
        "reshaped_images.shape"
      ]
    },
    {
      "cell_type": "code",
      "execution_count": 52,
      "metadata": {
        "colab": {},
        "colab_type": "code",
        "id": "goxfcBhx0cVS"
      },
      "outputs": [],
      "source": [
        "norm_images = reshaped_images / 255.0"
      ]
    },
    {
      "cell_type": "code",
      "execution_count": 53,
      "metadata": {
        "colab": {
          "base_uri": "https://localhost:8080/",
          "height": 267
        },
        "colab_type": "code",
        "id": "BV9W2f_Ad1Wo",
        "outputId": "79237b16-ffb8-426d-8715-dddf341e0c0d"
      },
      "outputs": [
        {
          "data": {
            "image/png": "[encoded data removed]",
            "text/plain": [
              "<Figure size 432x288 with 1 Axes>"
            ]
          },
          "metadata": {
            "needs_background": "light",
            "tags": []
          },
          "output_type": "display_data"
        }
      ],
      "source": [
        "plt.imshow(norm_images[0].reshape((48,48)), cmap=\"gray\")\n",
        "plt.show()"
      ]
    },
    {
      "cell_type": "code",
      "execution_count": 14,
      "metadata": {
        "colab": {},
        "colab_type": "code",
        "id": "Ar7ziGtkfF54"
      },
      "outputs": [],
      "source": [
        "from tensorflow.keras.utils import to_categorical"
      ]
    },
    {
      "cell_type": "code",
      "execution_count": 15,
      "metadata": {
        "colab": {
          "base_uri": "https://localhost:8080/",
          "height": 34
        },
        "colab_type": "code",
        "id": "1CP43exMfc3R",
        "outputId": "fb987d64-a05d-46e6-a19b-198b0216ef2d"
      },
      "outputs": [
        {
          "data": {
            "text/plain": [
              "(35887, 7)"
            ]
          },
          "execution_count": 15,
          "metadata": {
            "tags": []
          },
          "output_type": "execute_result"
        }
      ],
      "source": [
        "new_labels = to_categorical(labels, num_classes=7)\n",
        "new_labels.shape"
      ]
    },
    {
      "cell_type": "code",
      "execution_count": 34,
      "metadata": {
        "colab": {
          "base_uri": "https://localhost:8080/",
          "height": 34
        },
        "colab_type": "code",
        "id": "dkmZj24Dfowh",
        "outputId": "7b13cbd7-7e74-45a3-96c7-e3e1bf5cdb5f"
      },
      "outputs": [
        {
          "data": {
            "text/plain": [
              "(35887, 48, 48, 1)"
            ]
          },
          "execution_count": 34,
          "metadata": {
            "tags": []
          },
          "output_type": "execute_result"
        }
      ],
      "source": [
        "reshaped_images.shape"
      ]
    },
    {
      "cell_type": "code",
      "execution_count": 54,
      "metadata": {
        "colab": {
          "base_uri": "https://localhost:8080/",
          "height": 34
        },
        "colab_type": "code",
        "id": "c64ysjK3ywI7",
        "outputId": "ab731354-b61a-40cf-f09c-de667c60849f"
      },
      "outputs": [
        {
          "data": {
            "text/plain": [
              "((28709, 48, 48, 1), (7178, 48, 48, 1), (28709, 7), (7178, 7))"
            ]
          },
          "execution_count": 54,
          "metadata": {
            "tags": []
          },
          "output_type": "execute_result"
        }
      ],
      "source": [
        "from sklearn.model_selection import train_test_split\n",
        "X_train, X_test, y_train, y_test = train_test_split(norm_images, new_labels, test_size=0.2, random_state = 42)\n",
        "X_train.shape, X_test.shape, y_train.shape, y_test.shape"
      ]
    },
    {
      "cell_type": "code",
      "execution_count": 92,
      "metadata": {
        "colab": {
          "base_uri": "https://localhost:8080/",
          "height": 35
        },
        "colab_type": "code",
        "id": "aUMRmkDZFerl",
        "outputId": "c20ea613-19ef-4b51-9de1-1862ad3edf01"
      },
      "outputs": [
        {
          "data": {
            "application/vnd.google.colaboratory.intrinsic+json": {
              "type": "string"
            },
            "text/plain": [
              "'2.3.0'"
            ]
          },
          "execution_count": 92,
          "metadata": {
            "tags": []
          },
          "output_type": "execute_result"
        }
      ],
      "source": [
        "import tensorflow as tf\n",
        "tf.__version__"
      ]
    },
    {
      "cell_type": "code",
      "execution_count": 20,
      "metadata": {
        "colab": {},
        "colab_type": "code",
        "id": "DOF_EILiZ7Xb"
      },
      "outputs": [],
      "source": [
        "from tensorflow.keras.layers import Dense, Dropout, Flatten, Conv2D, BatchNormalization, Activation, MaxPooling2D\n",
        "from tensorflow.keras.models import Model, Sequential\n",
        "from tensorflow.keras.optimizers import Adam\n",
        "from tensorflow.keras.callbacks import ModelCheckpoint, ReduceLROnPlateau"
      ]
    },
    {
      "cell_type": "code",
      "execution_count": 55,
      "metadata": {
        "colab": {},
        "colab_type": "code",
        "id": "BgEp0tV7Z7Xd"
      },
      "outputs": [],
      "source": [
        "model = Sequential()\n",
        "\n",
        "model.add(Conv2D(64, (3,3), padding = \"same\", input_shape = (48,48,1)))\n",
        "model.add(BatchNormalization())\n",
        "model.add(Activation('relu'))\n",
        "model.add(MaxPooling2D(pool_size = (2,2)))\n",
        "model.add(Dropout(0.25))\n",
        "\n",
        "model.add(Conv2D(128, (5,5), padding = \"same\"))\n",
        "model.add(BatchNormalization())\n",
        "model.add(Activation('relu'))\n",
        "model.add(MaxPooling2D(pool_size = (2,2)))\n",
        "model.add(Dropout(0.25))\n",
        "\n",
        "model.add(Conv2D(512, (3,3), padding = \"same\"))\n",
        "model.add(BatchNormalization())\n",
        "model.add(Activation('relu'))\n",
        "model.add(MaxPooling2D(pool_size = (2,2)))\n",
        "model.add(Dropout(0.25))\n",
        "\n",
        "model.add(Conv2D(512, (3,3), padding = \"same\"))\n",
        "model.add(BatchNormalization())\n",
        "model.add(Activation('relu'))\n",
        "model.add(MaxPooling2D(pool_size = (2,2)))\n",
        "model.add(Dropout(0.25))\n",
        "\n",
        "model.add(Flatten())\n",
        "\n",
        "model.add(Dense(256))\n",
        "model.add(BatchNormalization())\n",
        "model.add(Activation('relu'))\n",
        "model.add(Dropout(0.25))\n",
        "\n",
        "model.add(Dense(512))\n",
        "model.add(BatchNormalization())\n",
        "model.add(Activation('relu'))\n",
        "model.add(Dropout(0.25))\n",
        "\n",
        "model.add(Dense(7, activation = \"softmax\"))"
      ]
    },
    {
      "cell_type": "code",
      "execution_count": 56,
      "metadata": {
        "colab": {},
        "colab_type": "code",
        "id": "RmNNBI5UZ7Xg"
      },
      "outputs": [],
      "source": [
        "opt = Adam(lr = 0.0005)\n",
        "\n",
        "model.compile(optimizer = opt, loss = \"categorical_crossentropy\", metrics = ['accuracy'])"
      ]
    },
    {
      "cell_type": "code",
      "execution_count": 57,
      "metadata": {
        "colab": {
          "base_uri": "https://localhost:8080/",
          "height": 1000
        },
        "colab_type": "code",
        "id": "muj96GHPZ7Xi",
        "outputId": "fecaf1f9-ef62-44bc-ad80-cfbecbf32f48"
      },
      "outputs": [
        {
          "name": "stdout",
          "output_type": "stream",
          "text": [
            "Model: \"sequential_4\"\n",
            "_________________________________________________________________\n",
            "Layer (type)                 Output Shape              Param #   \n",
            "=================================================================\n",
            "conv2d_16 (Conv2D)           (None, 48, 48, 64)        640       \n",
            "_________________________________________________________________\n",
            "batch_normalization_24 (Batc (None, 48, 48, 64)        256       \n",
            "_________________________________________________________________\n",
            "activation_24 (Activation)   (None, 48, 48, 64)        0         \n",
            "_________________________________________________________________\n",
            "max_pooling2d_16 (MaxPooling (None, 24, 24, 64)        0         \n",
            "_________________________________________________________________\n",
            "dropout_24 (Dropout)         (None, 24, 24, 64)        0         \n",
            "_________________________________________________________________\n",
            "conv2d_17 (Conv2D)           (None, 24, 24, 128)       204928    \n",
            "_________________________________________________________________\n",
            "batch_normalization_25 (Batc (None, 24, 24, 128)       512       \n",
            "_________________________________________________________________\n",
            "activation_25 (Activation)   (None, 24, 24, 128)       0         \n",
            "_________________________________________________________________\n",
            "max_pooling2d_17 (MaxPooling (None, 12, 12, 128)       0         \n",
            "_________________________________________________________________\n",
            "dropout_25 (Dropout)         (None, 12, 12, 128)       0         \n",
            "_________________________________________________________________\n",
            "conv2d_18 (Conv2D)           (None, 12, 12, 512)       590336    \n",
            "_________________________________________________________________\n",
            "batch_normalization_26 (Batc (None, 12, 12, 512)       2048      \n",
            "_________________________________________________________________\n",
            "activation_26 (Activation)   (None, 12, 12, 512)       0         \n",
            "_________________________________________________________________\n",
            "max_pooling2d_18 (MaxPooling (None, 6, 6, 512)         0         \n",
            "_________________________________________________________________\n",
            "dropout_26 (Dropout)         (None, 6, 6, 512)         0         \n",
            "_________________________________________________________________\n",
            "conv2d_19 (Conv2D)           (None, 6, 6, 512)         2359808   \n",
            "_________________________________________________________________\n",
            "batch_normalization_27 (Batc (None, 6, 6, 512)         2048      \n",
            "_________________________________________________________________\n",
            "activation_27 (Activation)   (None, 6, 6, 512)         0         \n",
            "_________________________________________________________________\n",
            "max_pooling2d_19 (MaxPooling (None, 3, 3, 512)         0         \n",
            "_________________________________________________________________\n",
            "dropout_27 (Dropout)         (None, 3, 3, 512)         0         \n",
            "_________________________________________________________________\n",
            "flatten_4 (Flatten)          (None, 4608)              0         \n",
            "_________________________________________________________________\n",
            "dense_12 (Dense)             (None, 256)               1179904   \n",
            "_________________________________________________________________\n",
            "batch_normalization_28 (Batc (None, 256)               1024      \n",
            "_________________________________________________________________\n",
            "activation_28 (Activation)   (None, 256)               0         \n",
            "_________________________________________________________________\n",
            "dropout_28 (Dropout)         (None, 256)               0         \n",
            "_________________________________________________________________\n",
            "dense_13 (Dense)             (None, 512)               131584    \n",
            "_________________________________________________________________\n",
            "batch_normalization_29 (Batc (None, 512)               2048      \n",
            "_________________________________________________________________\n",
            "activation_29 (Activation)   (None, 512)               0         \n",
            "_________________________________________________________________\n",
            "dropout_29 (Dropout)         (None, 512)               0         \n",
            "_________________________________________________________________\n",
            "dense_14 (Dense)             (None, 7)                 3591      \n",
            "=================================================================\n",
            "Total params: 4,478,727\n",
            "Trainable params: 4,474,759\n",
            "Non-trainable params: 3,968\n",
            "_________________________________________________________________\n"
          ]
        }
      ],
      "source": [
        "model.summary()"
      ]
    },
    {
      "cell_type": "code",
      "execution_count": 58,
      "metadata": {
        "colab": {
          "base_uri": "https://localhost:8080/",
          "height": 1000
        },
        "colab_type": "code",
        "id": "EYY-jJgkZ7Xl",
        "outputId": "c1356624-acb3-48ba-d2fb-3f021e4f1ba8"
      },
      "outputs": [
        {
          "name": "stdout",
          "output_type": "stream",
          "text": [
            "Epoch 1/50\n",
            "898/898 [==============================] - ETA: 0s - loss: 1.7589 - accuracy: 0.3236\n",
            "Epoch 00001: saving model to fer_model.h5\n",
            "898/898 [==============================] - 16s 18ms/step - loss: 1.7589 - accuracy: 0.3236 - val_loss: 1.5321 - val_accuracy: 0.4047\n",
            "Epoch 2/50\n",
            "897/898 [============================>.] - ETA: 0s - loss: 1.4281 - accuracy: 0.4478\n",
            "Epoch 00002: saving model to fer_model.h5\n",
            "898/898 [==============================] - 16s 18ms/step - loss: 1.4280 - accuracy: 0.4479 - val_loss: 1.6897 - val_accuracy: 0.4132\n",
            "Epoch 3/50\n",
            "897/898 [============================>.] - ETA: 0s - loss: 1.2878 - accuracy: 0.5072\n",
            "Epoch 00003: saving model to fer_model.h5\n",
            "898/898 [==============================] - 16s 18ms/step - loss: 1.2881 - accuracy: 0.5072 - val_loss: 1.4960 - val_accuracy: 0.4142\n",
            "Epoch 4/50\n",
            "895/898 [============================>.] - ETA: 0s - loss: 1.2069 - accuracy: 0.5418\n",
            "Epoch 00004: saving model to fer_model.h5\n",
            "898/898 [==============================] - 16s 18ms/step - loss: 1.2064 - accuracy: 0.5420 - val_loss: 1.1660 - val_accuracy: 0.5515\n",
            "Epoch 5/50\n",
            "895/898 [============================>.] - ETA: 0s - loss: 1.1530 - accuracy: 0.5619\n",
            "Epoch 00005: saving model to fer_model.h5\n",
            "898/898 [==============================] - 16s 18ms/step - loss: 1.1530 - accuracy: 0.5619 - val_loss: 1.3565 - val_accuracy: 0.4589\n",
            "Epoch 6/50\n",
            "896/898 [============================>.] - ETA: 0s - loss: 1.1067 - accuracy: 0.5793\n",
            "Epoch 00006: saving model to fer_model.h5\n",
            "898/898 [==============================] - 16s 18ms/step - loss: 1.1065 - accuracy: 0.5794 - val_loss: 1.1113 - val_accuracy: 0.5793\n",
            "Epoch 7/50\n",
            "895/898 [============================>.] - ETA: 0s - loss: 1.0592 - accuracy: 0.6010\n",
            "Epoch 00007: saving model to fer_model.h5\n",
            "898/898 [==============================] - 16s 18ms/step - loss: 1.0592 - accuracy: 0.6009 - val_loss: 1.0948 - val_accuracy: 0.5828\n",
            "Epoch 8/50\n",
            "896/898 [============================>.] - ETA: 0s - loss: 1.0161 - accuracy: 0.6178\n",
            "Epoch 00008: saving model to fer_model.h5\n",
            "898/898 [==============================] - 16s 18ms/step - loss: 1.0161 - accuracy: 0.6178 - val_loss: 1.1630 - val_accuracy: 0.5506\n",
            "Epoch 9/50\n",
            "897/898 [============================>.] - ETA: 0s - loss: 0.9726 - accuracy: 0.6335\n",
            "Epoch 00009: saving model to fer_model.h5\n",
            "898/898 [==============================] - 16s 18ms/step - loss: 0.9728 - accuracy: 0.6335 - val_loss: 1.1290 - val_accuracy: 0.5821\n",
            "Epoch 10/50\n",
            "897/898 [============================>.] - ETA: 0s - loss: 0.8473 - accuracy: 0.6850\n",
            "Epoch 00010: saving model to fer_model.h5\n",
            "898/898 [==============================] - 16s 18ms/step - loss: 0.8474 - accuracy: 0.6850 - val_loss: 0.9927 - val_accuracy: 0.6358\n",
            "Epoch 11/50\n",
            "895/898 [============================>.] - ETA: 0s - loss: 0.8098 - accuracy: 0.6969\n",
            "Epoch 00011: saving model to fer_model.h5\n",
            "898/898 [==============================] - 16s 18ms/step - loss: 0.8099 - accuracy: 0.6966 - val_loss: 0.9859 - val_accuracy: 0.6422\n",
            "Epoch 12/50\n",
            "895/898 [============================>.] - ETA: 0s - loss: 0.7915 - accuracy: 0.7084\n",
            "Epoch 00012: saving model to fer_model.h5\n",
            "898/898 [==============================] - 16s 18ms/step - loss: 0.7917 - accuracy: 0.7083 - val_loss: 0.9886 - val_accuracy: 0.6399\n",
            "Epoch 13/50\n",
            "897/898 [============================>.] - ETA: 0s - loss: 0.7670 - accuracy: 0.7152\n",
            "Epoch 00013: saving model to fer_model.h5\n",
            "898/898 [==============================] - 16s 18ms/step - loss: 0.7670 - accuracy: 0.7152 - val_loss: 0.9986 - val_accuracy: 0.6375\n",
            "Epoch 14/50\n",
            "896/898 [============================>.] - ETA: 0s - loss: 0.7484 - accuracy: 0.7218\n",
            "Epoch 00014: saving model to fer_model.h5\n",
            "898/898 [==============================] - 16s 18ms/step - loss: 0.7479 - accuracy: 0.7220 - val_loss: 0.9878 - val_accuracy: 0.6432\n",
            "Epoch 15/50\n",
            "896/898 [============================>.] - ETA: 0s - loss: 0.7462 - accuracy: 0.7200\n",
            "Epoch 00015: saving model to fer_model.h5\n",
            "898/898 [==============================] - 16s 18ms/step - loss: 0.7465 - accuracy: 0.7200 - val_loss: 0.9866 - val_accuracy: 0.6425\n",
            "Epoch 16/50\n",
            "898/898 [==============================] - ETA: 0s - loss: 0.7370 - accuracy: 0.7260\n",
            "Epoch 00016: saving model to fer_model.h5\n",
            "898/898 [==============================] - 16s 18ms/step - loss: 0.7370 - accuracy: 0.7260 - val_loss: 0.9882 - val_accuracy: 0.6443\n",
            "Epoch 17/50\n",
            "897/898 [============================>.] - ETA: 0s - loss: 0.7441 - accuracy: 0.7241\n",
            "Epoch 00017: saving model to fer_model.h5\n",
            "898/898 [==============================] - 16s 18ms/step - loss: 0.7440 - accuracy: 0.7242 - val_loss: 0.9872 - val_accuracy: 0.6453\n",
            "Epoch 18/50\n",
            "895/898 [============================>.] - ETA: 0s - loss: 0.7299 - accuracy: 0.7289\n",
            "Epoch 00018: saving model to fer_model.h5\n",
            "898/898 [==============================] - 16s 18ms/step - loss: 0.7297 - accuracy: 0.7289 - val_loss: 0.9905 - val_accuracy: 0.6467\n",
            "Epoch 19/50\n",
            "895/898 [============================>.] - ETA: 0s - loss: 0.7234 - accuracy: 0.7307\n",
            "Epoch 00019: saving model to fer_model.h5\n",
            "898/898 [==============================] - 16s 18ms/step - loss: 0.7235 - accuracy: 0.7307 - val_loss: 0.9889 - val_accuracy: 0.6457\n",
            "Epoch 20/50\n",
            "895/898 [============================>.] - ETA: 0s - loss: 0.7234 - accuracy: 0.7294\n",
            "Epoch 00020: saving model to fer_model.h5\n",
            "898/898 [==============================] - 16s 18ms/step - loss: 0.7233 - accuracy: 0.7294 - val_loss: 0.9926 - val_accuracy: 0.6463\n",
            "Epoch 21/50\n",
            "897/898 [============================>.] - ETA: 0s - loss: 0.7128 - accuracy: 0.7348\n",
            "Epoch 00021: saving model to fer_model.h5\n",
            "898/898 [==============================] - 16s 18ms/step - loss: 0.7129 - accuracy: 0.7348 - val_loss: 0.9910 - val_accuracy: 0.6466\n",
            "Epoch 22/50\n",
            "896/898 [============================>.] - ETA: 0s - loss: 0.7212 - accuracy: 0.7347\n",
            "Epoch 00022: saving model to fer_model.h5\n",
            "898/898 [==============================] - 16s 18ms/step - loss: 0.7212 - accuracy: 0.7347 - val_loss: 0.9915 - val_accuracy: 0.6474\n",
            "Epoch 23/50\n",
            "898/898 [==============================] - ETA: 0s - loss: 0.7113 - accuracy: 0.7357\n",
            "Epoch 00023: saving model to fer_model.h5\n",
            "898/898 [==============================] - 16s 18ms/step - loss: 0.7113 - accuracy: 0.7357 - val_loss: 0.9940 - val_accuracy: 0.6475\n",
            "Epoch 24/50\n",
            "898/898 [==============================] - ETA: 0s - loss: 0.7096 - accuracy: 0.7350\n",
            "Epoch 00024: saving model to fer_model.h5\n",
            "898/898 [==============================] - 16s 18ms/step - loss: 0.7096 - accuracy: 0.7350 - val_loss: 0.9923 - val_accuracy: 0.6470\n",
            "Epoch 25/50\n",
            "897/898 [============================>.] - ETA: 0s - loss: 0.7024 - accuracy: 0.7375\n",
            "Epoch 00025: saving model to fer_model.h5\n",
            "898/898 [==============================] - 16s 18ms/step - loss: 0.7025 - accuracy: 0.7375 - val_loss: 0.9943 - val_accuracy: 0.6467\n",
            "Epoch 26/50\n",
            "895/898 [============================>.] - ETA: 0s - loss: 0.7051 - accuracy: 0.7379\n",
            "Epoch 00026: saving model to fer_model.h5\n",
            "898/898 [==============================] - 16s 18ms/step - loss: 0.7047 - accuracy: 0.7380 - val_loss: 0.9946 - val_accuracy: 0.6470\n",
            "Epoch 27/50\n",
            "898/898 [==============================] - ETA: 0s - loss: 0.6976 - accuracy: 0.7397\n",
            "Epoch 00027: saving model to fer_model.h5\n",
            "898/898 [==============================] - 16s 18ms/step - loss: 0.6976 - accuracy: 0.7397 - val_loss: 0.9955 - val_accuracy: 0.6495\n",
            "Epoch 28/50\n",
            "895/898 [============================>.] - ETA: 0s - loss: 0.6974 - accuracy: 0.7425\n",
            "Epoch 00028: saving model to fer_model.h5\n",
            "898/898 [==============================] - 16s 18ms/step - loss: 0.6972 - accuracy: 0.7424 - val_loss: 0.9980 - val_accuracy: 0.6493\n",
            "Epoch 29/50\n",
            "895/898 [============================>.] - ETA: 0s - loss: 0.6923 - accuracy: 0.7437\n",
            "Epoch 00029: saving model to fer_model.h5\n",
            "898/898 [==============================] - 16s 18ms/step - loss: 0.6923 - accuracy: 0.7437 - val_loss: 0.9975 - val_accuracy: 0.6475\n",
            "Epoch 30/50\n",
            "897/898 [============================>.] - ETA: 0s - loss: 0.6875 - accuracy: 0.7462\n",
            "Epoch 00030: saving model to fer_model.h5\n",
            "898/898 [==============================] - 16s 18ms/step - loss: 0.6876 - accuracy: 0.7461 - val_loss: 1.0016 - val_accuracy: 0.6495\n",
            "Epoch 31/50\n",
            "896/898 [============================>.] - ETA: 0s - loss: 0.6888 - accuracy: 0.7449\n",
            "Epoch 00031: saving model to fer_model.h5\n",
            "898/898 [==============================] - 16s 18ms/step - loss: 0.6888 - accuracy: 0.7448 - val_loss: 0.9999 - val_accuracy: 0.6488\n",
            "Epoch 32/50\n",
            "895/898 [============================>.] - ETA: 0s - loss: 0.6834 - accuracy: 0.7461\n",
            "Epoch 00032: saving model to fer_model.h5\n",
            "898/898 [==============================] - 16s 18ms/step - loss: 0.6838 - accuracy: 0.7460 - val_loss: 1.0002 - val_accuracy: 0.6493\n",
            "Epoch 33/50\n",
            "895/898 [============================>.] - ETA: 0s - loss: 0.6811 - accuracy: 0.7457\n",
            "Epoch 00033: saving model to fer_model.h5\n",
            "898/898 [==============================] - 16s 18ms/step - loss: 0.6808 - accuracy: 0.7457 - val_loss: 1.0000 - val_accuracy: 0.6509\n",
            "Epoch 34/50\n",
            "896/898 [============================>.] - ETA: 0s - loss: 0.6782 - accuracy: 0.7481\n",
            "Epoch 00034: saving model to fer_model.h5\n",
            "898/898 [==============================] - 16s 18ms/step - loss: 0.6785 - accuracy: 0.7479 - val_loss: 1.0043 - val_accuracy: 0.6510\n",
            "Epoch 35/50\n",
            "897/898 [============================>.] - ETA: 0s - loss: 0.6816 - accuracy: 0.7480\n",
            "Epoch 00035: saving model to fer_model.h5\n",
            "898/898 [==============================] - 16s 18ms/step - loss: 0.6817 - accuracy: 0.7480 - val_loss: 1.0038 - val_accuracy: 0.6516\n",
            "Epoch 36/50\n",
            "895/898 [============================>.] - ETA: 0s - loss: 0.6767 - accuracy: 0.7480\n",
            "Epoch 00036: saving model to fer_model.h5\n",
            "898/898 [==============================] - 16s 18ms/step - loss: 0.6771 - accuracy: 0.7480 - val_loss: 1.0012 - val_accuracy: 0.6509\n",
            "Epoch 37/50\n",
            "896/898 [============================>.] - ETA: 0s - loss: 0.6677 - accuracy: 0.7510\n",
            "Epoch 00037: saving model to fer_model.h5\n",
            "898/898 [==============================] - 16s 18ms/step - loss: 0.6681 - accuracy: 0.7508 - val_loss: 1.0097 - val_accuracy: 0.6523\n",
            "Epoch 38/50\n",
            "897/898 [============================>.] - ETA: 0s - loss: 0.6705 - accuracy: 0.7520\n",
            "Epoch 00038: saving model to fer_model.h5\n",
            "898/898 [==============================] - 16s 18ms/step - loss: 0.6705 - accuracy: 0.7519 - val_loss: 1.0063 - val_accuracy: 0.6485\n",
            "Epoch 39/50\n",
            "898/898 [==============================] - ETA: 0s - loss: 0.6624 - accuracy: 0.7521\n",
            "Epoch 00039: saving model to fer_model.h5\n",
            "898/898 [==============================] - 16s 18ms/step - loss: 0.6624 - accuracy: 0.7521 - val_loss: 1.0050 - val_accuracy: 0.6500\n",
            "Epoch 40/50\n",
            "898/898 [==============================] - ETA: 0s - loss: 0.6616 - accuracy: 0.7520\n",
            "Epoch 00040: saving model to fer_model.h5\n",
            "898/898 [==============================] - 16s 18ms/step - loss: 0.6616 - accuracy: 0.7520 - val_loss: 1.0076 - val_accuracy: 0.6506\n",
            "Epoch 41/50\n",
            "898/898 [==============================] - ETA: 0s - loss: 0.6618 - accuracy: 0.7549\n",
            "Epoch 00041: saving model to fer_model.h5\n",
            "898/898 [==============================] - 16s 18ms/step - loss: 0.6618 - accuracy: 0.7549 - val_loss: 1.0059 - val_accuracy: 0.6495\n",
            "Epoch 42/50\n",
            "898/898 [==============================] - ETA: 0s - loss: 0.6615 - accuracy: 0.7540\n",
            "Epoch 00042: saving model to fer_model.h5\n",
            "898/898 [==============================] - 16s 18ms/step - loss: 0.6615 - accuracy: 0.7540 - val_loss: 1.0101 - val_accuracy: 0.6502\n",
            "Epoch 43/50\n",
            "898/898 [==============================] - ETA: 0s - loss: 0.6571 - accuracy: 0.7564\n",
            "Epoch 00043: saving model to fer_model.h5\n",
            "898/898 [==============================] - 16s 18ms/step - loss: 0.6571 - accuracy: 0.7564 - val_loss: 1.0094 - val_accuracy: 0.6496\n",
            "Epoch 44/50\n",
            "895/898 [============================>.] - ETA: 0s - loss: 0.6565 - accuracy: 0.7549\n",
            "Epoch 00044: saving model to fer_model.h5\n",
            "898/898 [==============================] - 16s 18ms/step - loss: 0.6567 - accuracy: 0.7549 - val_loss: 1.0078 - val_accuracy: 0.6514\n",
            "Epoch 45/50\n",
            "897/898 [============================>.] - ETA: 0s - loss: 0.6553 - accuracy: 0.7589\n",
            "Epoch 00045: saving model to fer_model.h5\n",
            "898/898 [==============================] - 16s 18ms/step - loss: 0.6553 - accuracy: 0.7589 - val_loss: 1.0102 - val_accuracy: 0.6512\n",
            "Epoch 46/50\n",
            "897/898 [============================>.] - ETA: 0s - loss: 0.6513 - accuracy: 0.7584\n",
            "Epoch 00046: saving model to fer_model.h5\n",
            "898/898 [==============================] - 16s 18ms/step - loss: 0.6514 - accuracy: 0.7583 - val_loss: 1.0046 - val_accuracy: 0.6513\n",
            "Epoch 47/50\n",
            "896/898 [============================>.] - ETA: 0s - loss: 0.6378 - accuracy: 0.7626\n",
            "Epoch 00047: saving model to fer_model.h5\n",
            "898/898 [==============================] - 16s 18ms/step - loss: 0.6381 - accuracy: 0.7623 - val_loss: 1.0136 - val_accuracy: 0.6530\n",
            "Epoch 48/50\n",
            "896/898 [============================>.] - ETA: 0s - loss: 0.6402 - accuracy: 0.7609\n",
            "Epoch 00048: saving model to fer_model.h5\n",
            "898/898 [==============================] - 16s 18ms/step - loss: 0.6401 - accuracy: 0.7610 - val_loss: 1.0138 - val_accuracy: 0.6539\n",
            "Epoch 49/50\n",
            "897/898 [============================>.] - ETA: 0s - loss: 0.6415 - accuracy: 0.7587\n",
            "Epoch 00049: saving model to fer_model.h5\n",
            "898/898 [==============================] - 16s 18ms/step - loss: 0.6415 - accuracy: 0.7588 - val_loss: 1.0119 - val_accuracy: 0.6538\n",
            "Epoch 50/50\n",
            "898/898 [==============================] - ETA: 0s - loss: 0.6387 - accuracy: 0.7633\n",
            "Epoch 00050: saving model to fer_model.h5\n",
            "898/898 [==============================] - 16s 18ms/step - loss: 0.6387 - accuracy: 0.7633 - val_loss: 1.0124 - val_accuracy: 0.6519\n"
          ]
        }
      ],
      "source": [
        "epochs = 50\n",
        "\n",
        "reduce_lr = ReduceLROnPlateau(monitor='val_loss', factor=0.1,\n",
        "                              patience=2, min_lr=0.00001, mode='auto')\n",
        "\n",
        "checkpoint = ModelCheckpoint(\"fer_model.h5\", monitor='val_loss', \n",
        "                             mode='max', verbose=1)\n",
        "\n",
        "callbacks = [checkpoint, reduce_lr]\n",
        "\n",
        "history = model.fit(X_train, y_train, validation_data=(X_test, y_test), callbacks=callbacks, epochs = epochs)"
      ]
    },
    {
      "cell_type": "code",
      "execution_count": 59,
      "metadata": {
        "colab": {},
        "colab_type": "code",
        "id": "8UgYQOKfZ7Xn"
      },
      "outputs": [],
      "source": [
        "emotions = ('angry', 'disgust', 'fear', 'happy', 'sad', 'surprise', 'neutral')"
      ]
    },
    {
      "cell_type": "code",
      "execution_count": 60,
      "metadata": {
        "colab": {},
        "colab_type": "code",
        "id": "AKe3O58uZ7Xp"
      },
      "outputs": [],
      "source": [
        "import PIL\n",
        "from PIL import Image"
      ]
    },
    {
      "cell_type": "code",
      "execution_count": 62,
      "metadata": {
        "colab": {},
        "colab_type": "code",
        "id": "dzgJaDaHZ7Xs"
      },
      "outputs": [],
      "source": [
        "import cv2"
      ]
    },
    {
      "cell_type": "code",
      "execution_count": 80,
      "metadata": {
        "colab": {},
        "colab_type": "code",
        "id": "-L2_6Njz4gN8"
      },
      "outputs": [],
      "source": [
        "img = cv2.imread(\"/content/angry-1.jpg\")"
      ]
    },
    {
      "cell_type": "code",
      "execution_count": 81,
      "metadata": {
        "colab": {},
        "colab_type": "code",
        "id": "FM_XxJBh4jd_"
      },
      "outputs": [],
      "source": [
        "img = cv2.cvtColor(img, cv2.COLOR_BGR2GRAY)"
      ]
    },
    {
      "cell_type": "code",
      "execution_count": 82,
      "metadata": {
        "colab": {
          "base_uri": "https://localhost:8080/",
          "height": 34
        },
        "colab_type": "code",
        "id": "BMQG99sl4xG6",
        "outputId": "bda5e732-a30e-4fbc-dccd-571fbfa86815"
      },
      "outputs": [
        {
          "data": {
            "text/plain": [
              "(259, 194)"
            ]
          },
          "execution_count": 82,
          "metadata": {
            "tags": []
          },
          "output_type": "execute_result"
        }
      ],
      "source": [
        "img.shape"
      ]
    },
    {
      "cell_type": "code",
      "execution_count": 83,
      "metadata": {
        "colab": {},
        "colab_type": "code",
        "id": "wilt8sw26EYP"
      },
      "outputs": [],
      "source": [
        "img = cv2.resize(img, (48,48))"
      ]
    },
    {
      "cell_type": "code",
      "execution_count": 84,
      "metadata": {
        "colab": {
          "base_uri": "https://localhost:8080/",
          "height": 284
        },
        "colab_type": "code",
        "id": "loPNgHJ_6Wjf",
        "outputId": "b9b56459-355a-43b5-cbbd-0f8c10ddea6d"
      },
      "outputs": [
        {
          "data": {
            "text/plain": [
              "<matplotlib.image.AxesImage at 0x7fc28d1f9518>"
            ]
          },
          "execution_count": 84,
          "metadata": {
            "tags": []
          },
          "output_type": "execute_result"
        },
        {
          "data": {
            "image/png": "[encoded data removed]",
            "text/plain": [
              "<Figure size 432x288 with 1 Axes>"
            ]
          },
          "metadata": {
            "needs_background": "light",
            "tags": []
          },
          "output_type": "display_data"
        }
      ],
      "source": [
        "plt.imshow(img, cmap='gray')"
      ]
    },
    {
      "cell_type": "code",
      "execution_count": 86,
      "metadata": {
        "colab": {
          "base_uri": "https://localhost:8080/",
          "height": 34
        },
        "colab_type": "code",
        "id": "6vSOE2Cc6aj5",
        "outputId": "c7a62ca8-dea3-42a7-dd0a-adae558d33dc"
      },
      "outputs": [
        {
          "data": {
            "text/plain": [
              "0"
            ]
          },
          "execution_count": 86,
          "metadata": {
            "tags": []
          },
          "output_type": "execute_result"
        }
      ],
      "source": [
        "np.argmax(model.predict(img.reshape((1,48,48,1))), axis=-1)[0]"
      ]
    },
    {
      "cell_type": "code",
      "execution_count": 87,
      "metadata": {
        "colab": {},
        "colab_type": "code",
        "id": "KFXRK82b-trw"
      },
      "outputs": [],
      "source": [
        "model.save(\"Fer_Model.h5\")"
      ]
    },
    {
      "cell_type": "code",
      "execution_count": 88,
      "metadata": {
        "colab": {},
        "colab_type": "code",
        "id": "BJT0iiyT6nRZ"
      },
      "outputs": [],
      "source": [
        "model.save_weights(\"model_weights.h5\")"
      ]
    },
    {
      "cell_type": "code",
      "execution_count": 89,
      "metadata": {
        "colab": {},
        "colab_type": "code",
        "id": "LFUmZKR_DOg9"
      },
      "outputs": [],
      "source": [
        "model_json = model.to_json()\n",
        "with open(\"model.json\", \"w\") as json_file:\n",
        "    json_file.write(model_json)"
      ]
    }
  ],
  "metadata": {
    "accelerator": "GPU",
    "colab": {
      "collapsed_sections": [],
      "name": "Face_Emotion_Recognition.ipynb",
      "provenance": []
    },
    "kernelspec": {
      "display_name": "Python 3",
      "language": "python",
      "name": "python3"
    },
    "language_info": {
      "codemirror_mode": {
        "name": "ipython",
        "version": 3
      },
      "file_extension": ".py",
      "mimetype": "text/x-python",
      "name": "python",
      "nbconvert_exporter": "python",
      "pygments_lexer": "ipython3",
      "version": "3.11.6"
    }
  },
  "nbformat": 4,
  "nbformat_minor": 0
}
